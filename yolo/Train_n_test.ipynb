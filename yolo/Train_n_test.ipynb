{
 "cells": [
  {
   "cell_type": "code",
   "execution_count": 1,
   "id": "115b1e6a-0810-4a9f-b97f-a4bd06aecddc",
   "metadata": {},
   "outputs": [],
   "source": [
    "import ultralytics\n",
    "import torch\n",
    "import cv2 as cv\n",
    "import matplotlib.pyplot as plt\n",
    "import numpy as np"
   ]
  },
  {
   "cell_type": "code",
   "execution_count": 3,
   "id": "f7d8621b-c0c6-4ef9-87f0-cac58ed547f1",
   "metadata": {},
   "outputs": [
    {
     "name": "stdout",
     "output_type": "stream",
     "text": [
      "Ultralytics YOLOv8.1.1 🚀 Python-3.10.12 torch-2.1.2+cu121 CUDA:0 (NVIDIA GeForce GTX 1050 Ti, 4041MiB)\n",
      "\u001b[34m\u001b[1mengine/trainer: \u001b[0mtask=detect, mode=train, model=yolov8n.pt, data=coco128.yaml, epochs=1, time=None, patience=50, batch=16, imgsz=640, save=True, save_period=-1, cache=False, device=None, workers=8, project=None, name=train2, exist_ok=False, pretrained=True, optimizer=auto, verbose=True, seed=0, deterministic=True, single_cls=False, rect=False, cos_lr=False, close_mosaic=10, resume=False, amp=True, fraction=1.0, profile=False, freeze=None, multi_scale=False, overlap_mask=True, mask_ratio=4, dropout=0.0, val=True, split=val, save_json=False, save_hybrid=False, conf=None, iou=0.7, max_det=300, half=False, dnn=False, plots=True, source=None, vid_stride=1, stream_buffer=False, visualize=False, augment=False, agnostic_nms=False, classes=None, retina_masks=False, embed=None, show=False, save_frames=False, save_txt=False, save_conf=False, save_crop=False, show_labels=True, show_conf=True, show_boxes=True, line_width=None, format=torchscript, keras=False, optimize=False, int8=False, dynamic=False, simplify=False, opset=None, workspace=4, nms=False, lr0=0.01, lrf=0.01, momentum=0.937, weight_decay=0.0005, warmup_epochs=3.0, warmup_momentum=0.8, warmup_bias_lr=0.1, box=7.5, cls=0.5, dfl=1.5, pose=12.0, kobj=1.0, label_smoothing=0.0, nbs=64, hsv_h=0.015, hsv_s=0.7, hsv_v=0.4, degrees=0.0, translate=0.1, scale=0.5, shear=0.0, perspective=0.0, flipud=0.0, fliplr=0.5, mosaic=1.0, mixup=0.0, copy_paste=0.0, auto_augment=randaugment, erasing=0.4, crop_fraction=1.0, cfg=None, tracker=botsort.yaml, save_dir=runs/detect/train2\n",
      "\n",
      "                   from  n    params  module                                       arguments                     \n",
      "  0                  -1  1       464  ultralytics.nn.modules.conv.Conv             [3, 16, 3, 2]                 \n",
      "  1                  -1  1      4672  ultralytics.nn.modules.conv.Conv             [16, 32, 3, 2]                \n",
      "  2                  -1  1      7360  ultralytics.nn.modules.block.C2f             [32, 32, 1, True]             \n",
      "  3                  -1  1     18560  ultralytics.nn.modules.conv.Conv             [32, 64, 3, 2]                \n",
      "  4                  -1  2     49664  ultralytics.nn.modules.block.C2f             [64, 64, 2, True]             \n",
      "  5                  -1  1     73984  ultralytics.nn.modules.conv.Conv             [64, 128, 3, 2]               \n",
      "  6                  -1  2    197632  ultralytics.nn.modules.block.C2f             [128, 128, 2, True]           \n",
      "  7                  -1  1    295424  ultralytics.nn.modules.conv.Conv             [128, 256, 3, 2]              \n",
      "  8                  -1  1    460288  ultralytics.nn.modules.block.C2f             [256, 256, 1, True]           \n",
      "  9                  -1  1    164608  ultralytics.nn.modules.block.SPPF            [256, 256, 5]                 \n",
      " 10                  -1  1         0  torch.nn.modules.upsampling.Upsample         [None, 2, 'nearest']          \n",
      " 11             [-1, 6]  1         0  ultralytics.nn.modules.conv.Concat           [1]                           \n",
      " 12                  -1  1    148224  ultralytics.nn.modules.block.C2f             [384, 128, 1]                 \n",
      " 13                  -1  1         0  torch.nn.modules.upsampling.Upsample         [None, 2, 'nearest']          \n",
      " 14             [-1, 4]  1         0  ultralytics.nn.modules.conv.Concat           [1]                           \n",
      " 15                  -1  1     37248  ultralytics.nn.modules.block.C2f             [192, 64, 1]                  \n",
      " 16                  -1  1     36992  ultralytics.nn.modules.conv.Conv             [64, 64, 3, 2]                \n",
      " 17            [-1, 12]  1         0  ultralytics.nn.modules.conv.Concat           [1]                           \n",
      " 18                  -1  1    123648  ultralytics.nn.modules.block.C2f             [192, 128, 1]                 \n",
      " 19                  -1  1    147712  ultralytics.nn.modules.conv.Conv             [128, 128, 3, 2]              \n",
      " 20             [-1, 9]  1         0  ultralytics.nn.modules.conv.Concat           [1]                           \n",
      " 21                  -1  1    493056  ultralytics.nn.modules.block.C2f             [384, 256, 1]                 \n",
      " 22        [15, 18, 21]  1    897664  ultralytics.nn.modules.head.Detect           [80, [64, 128, 256]]          \n",
      "Model summary: 225 layers, 3157200 parameters, 3157184 gradients, 8.9 GFLOPs\n",
      "\n",
      "Transferred 355/355 items from pretrained weights\n",
      "Freezing layer 'model.22.dfl.conv.weight'\n",
      "\u001b[34m\u001b[1mAMP: \u001b[0mrunning Automatic Mixed Precision (AMP) checks with YOLOv8n...\n",
      "\u001b[34m\u001b[1mAMP: \u001b[0mchecks passed ✅\n"
     ]
    },
    {
     "name": "stderr",
     "output_type": "stream",
     "text": [
      "\u001b[34m\u001b[1mtrain: \u001b[0mScanning /home/dzen/datasets/coco128/labels/train2017.cache... 126 images, 2 backgrounds, 0 corrupt: 100%|██████████| 128/128 [00:00<?, ?it/s]\u001b[0m\n",
      "\u001b[34m\u001b[1mval: \u001b[0mScanning /home/dzen/datasets/coco128/labels/train2017.cache... 126 images, 2 backgrounds, 0 corrupt: 100%|██████████| 128/128 [00:00<?, ?it/s]\u001b[0m\n"
     ]
    },
    {
     "name": "stdout",
     "output_type": "stream",
     "text": [
      "Plotting labels to runs/detect/train2/labels.jpg... \n",
      "\u001b[34m\u001b[1moptimizer:\u001b[0m 'optimizer=auto' found, ignoring 'lr0=0.01' and 'momentum=0.937' and determining best 'optimizer', 'lr0' and 'momentum' automatically... \n",
      "\u001b[34m\u001b[1moptimizer:\u001b[0m AdamW(lr=0.000119, momentum=0.9) with parameter groups 57 weight(decay=0.0), 64 weight(decay=0.0005), 63 bias(decay=0.0)\n",
      "1 epochs...\n",
      "\n",
      "      Epoch    GPU_mem   box_loss   cls_loss   dfl_loss  Instances       Size\n"
     ]
    },
    {
     "name": "stderr",
     "output_type": "stream",
     "text": [
      "        1/1      2.63G      1.226      1.615      1.274        178        640: 100%|██████████| 8/8 [00:05<00:00,  1.42it/s]\n",
      "                 Class     Images  Instances      Box(P          R      mAP50  mAP50-95): 100%|██████████| 4/4 [00:03<00:00,  1.12it/s]\n"
     ]
    },
    {
     "name": "stdout",
     "output_type": "stream",
     "text": [
      "                   all        128        929      0.644      0.527      0.612      0.454\n",
      "\n",
      "1 epochs completed in 0.004 hours.\n",
      "Optimizer stripped from runs/detect/train2/weights/last.pt, 6.5MB\n",
      "Optimizer stripped from runs/detect/train2/weights/best.pt, 6.5MB\n",
      "\n",
      "Validating runs/detect/train2/weights/best.pt...\n",
      "Ultralytics YOLOv8.1.1 🚀 Python-3.10.12 torch-2.1.2+cu121 CUDA:0 (NVIDIA GeForce GTX 1050 Ti, 4041MiB)\n",
      "Model summary (fused): 168 layers, 3151904 parameters, 0 gradients, 8.7 GFLOPs\n"
     ]
    },
    {
     "name": "stderr",
     "output_type": "stream",
     "text": [
      "                 Class     Images  Instances      Box(P          R      mAP50  mAP50-95): 100%|██████████| 4/4 [00:03<00:00,  1.28it/s]\n"
     ]
    },
    {
     "name": "stdout",
     "output_type": "stream",
     "text": [
      "                   all        128        929      0.633       0.54      0.613      0.455\n",
      "                person        128        254      0.787      0.677      0.764      0.545\n",
      "               bicycle        128          6       0.51      0.333      0.314      0.273\n",
      "                   car        128         46       0.78      0.217      0.275       0.17\n",
      "            motorcycle        128          5      0.688      0.889      0.881      0.675\n",
      "              airplane        128          6      0.826      0.795      0.927      0.696\n",
      "                   bus        128          7      0.547      0.714      0.728      0.671\n",
      "                 train        128          3      0.539      0.667      0.703      0.579\n",
      "                 truck        128         12          1      0.384      0.487      0.307\n",
      "                  boat        128          6      0.256      0.167      0.355      0.235\n",
      "         traffic light        128         14      0.721      0.214      0.202      0.139\n",
      "             stop sign        128          2      0.947          1      0.995      0.707\n",
      "                 bench        128          9      0.836      0.567      0.622      0.364\n",
      "                  bird        128         16      0.922      0.737      0.874      0.531\n",
      "                   cat        128          4      0.884          1      0.995      0.791\n",
      "                   dog        128          9      0.608      0.889      0.802      0.619\n",
      "                 horse        128          2      0.576          1      0.995       0.52\n",
      "              elephant        128         17      0.868      0.778      0.895      0.658\n",
      "                  bear        128          1       0.61          1      0.995      0.995\n",
      "                 zebra        128          4      0.849          1      0.995      0.965\n",
      "               giraffe        128          9      0.787          1      0.973      0.705\n",
      "              backpack        128          6      0.564      0.333      0.392      0.234\n",
      "              umbrella        128         18      0.801        0.5      0.667      0.424\n",
      "               handbag        128         19      0.574     0.0759      0.185      0.097\n",
      "                   tie        128          7      0.691      0.714       0.64      0.484\n",
      "              suitcase        128          4      0.666          1      0.828      0.599\n",
      "               frisbee        128          5      0.646        0.8       0.76      0.664\n",
      "                  skis        128          1      0.503          1      0.995      0.497\n",
      "             snowboard        128          7      0.741      0.714      0.745      0.496\n",
      "           sports ball        128          6      0.715       0.43      0.493      0.286\n",
      "                  kite        128         10      0.825      0.474      0.577      0.196\n",
      "          baseball bat        128          4      0.519        0.5      0.419      0.175\n",
      "        baseball glove        128          7      0.626      0.429      0.429      0.273\n",
      "            skateboard        128          5      0.767        0.6        0.6       0.44\n",
      "         tennis racket        128          7       0.73      0.394      0.501      0.356\n",
      "                bottle        128         18      0.492      0.389      0.393      0.239\n",
      "            wine glass        128         16      0.638      0.441      0.577      0.327\n",
      "                   cup        128         36      0.605      0.256      0.401      0.281\n",
      "                  fork        128          6       0.55      0.167      0.293      0.205\n",
      "                 knife        128         16      0.673      0.516      0.627      0.374\n",
      "                 spoon        128         22      0.536      0.182      0.316      0.186\n",
      "                  bowl        128         28      0.572      0.571      0.584      0.465\n",
      "                banana        128          1          0          0      0.166     0.0469\n",
      "              sandwich        128          2      0.374      0.622      0.497      0.497\n",
      "                orange        128          4          1      0.328      0.995      0.666\n",
      "              broccoli        128         11      0.419      0.182      0.241      0.203\n",
      "                carrot        128         24       0.66      0.405      0.613      0.381\n",
      "               hot dog        128          2       0.34        0.5      0.745      0.721\n",
      "                 pizza        128          5       0.66          1      0.995      0.875\n",
      "                 donut        128         14      0.649          1       0.94      0.866\n",
      "                  cake        128          4      0.646          1      0.995       0.88\n",
      "                 chair        128         35      0.423      0.486      0.441      0.256\n",
      "                 couch        128          6      0.396      0.333      0.638      0.466\n",
      "          potted plant        128         14      0.632      0.643      0.719      0.473\n",
      "                   bed        128          3      0.685      0.667      0.755      0.616\n",
      "          dining table        128         13      0.415      0.615      0.499      0.402\n",
      "                toilet        128          2      0.613        0.5      0.695      0.676\n",
      "                    tv        128          2      0.344      0.533      0.745      0.696\n",
      "                laptop        128          3          1          0      0.511      0.403\n",
      "                 mouse        128          2          1          0     0.0422    0.00422\n",
      "                remote        128          8      0.839        0.5      0.574      0.497\n",
      "            cell phone        128          8          0          0     0.0592     0.0435\n",
      "             microwave        128          3       0.38      0.667      0.806      0.732\n",
      "                  oven        128          5      0.368        0.4      0.338      0.269\n",
      "                  sink        128          6      0.332      0.167      0.197      0.139\n",
      "          refrigerator        128          5      0.505       0.41      0.615      0.497\n",
      "                  book        128         29      0.582      0.103      0.315      0.164\n",
      "                 clock        128          9      0.788      0.828      0.891      0.735\n",
      "                  vase        128          2      0.369          1      0.828      0.795\n",
      "              scissors        128          1          1          0      0.249     0.0746\n",
      "            teddy bear        128         21      0.855      0.381      0.599      0.396\n",
      "            toothbrush        128          5      0.728      0.547       0.62       0.39\n",
      "Speed: 0.4ms preprocess, 11.7ms inference, 0.0ms loss, 1.9ms postprocess per image\n",
      "Results saved to \u001b[1mruns/detect/train2\u001b[0m\n"
     ]
    }
   ],
   "source": [
    "from ultralytics import YOLO\n",
    "\n",
    "# Load a model\n",
    "# model = YOLO('yolov8n.yaml')  # build a new model from YAML\n",
    "model = YOLO('yolov8n.pt')  # load a pretrained model (recommended for training)\n",
    "# n, s, m, l, x\n",
    "# model = YOLO('yolov8n.yaml').load('yolov8n.pt')  # build from YAML and transfer weights\n",
    "\n",
    "# Train the model\n",
    "results = model.train(data='coco128.yaml', epochs=10, imgsz=640)\n",
    "# results = model.train(data='diss/data.yaml', epochs=1, imgsz=640)"
   ]
  },
  {
   "cell_type": "code",
   "execution_count": null,
   "id": "63a966ea-9ac9-499c-9411-bbf0c5343b17",
   "metadata": {},
   "outputs": [],
   "source": []
  }
 ],
 "metadata": {
  "kernelspec": {
   "display_name": "Python 3 (ipykernel)",
   "language": "python",
   "name": "python3"
  },
  "language_info": {
   "codemirror_mode": {
    "name": "ipython",
    "version": 3
   },
   "file_extension": ".py",
   "mimetype": "text/x-python",
   "name": "python",
   "nbconvert_exporter": "python",
   "pygments_lexer": "ipython3",
   "version": "3.10.12"
  }
 },
 "nbformat": 4,
 "nbformat_minor": 5
}
